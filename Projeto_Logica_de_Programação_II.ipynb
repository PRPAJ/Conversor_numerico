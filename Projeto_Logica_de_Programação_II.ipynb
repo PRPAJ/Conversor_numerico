{
  "nbformat": 4,
  "nbformat_minor": 0,
  "metadata": {
    "colab": {
      "provenance": []
    },
    "kernelspec": {
      "name": "python3",
      "display_name": "Python 3"
    },
    "language_info": {
      "name": "python"
    }
  },
  "cells": [
    {
      "cell_type": "markdown",
      "source": [
        "Objetivo do projeto - Receber numeros por extenso e transformar para numerais"
      ],
      "metadata": {
        "id": "O1kQmmL449_k"
      }
    },
    {
      "cell_type": "markdown",
      "source": [
        "Funções auxiliares"
      ],
      "metadata": {
        "id": "7WtSY3G2-0Iz"
      }
    },
    {
      "cell_type": "code",
      "execution_count": null,
      "metadata": {
        "id": "iMMUDNKxBNAj"
      },
      "outputs": [],
      "source": [
        "# passo 1 - criar os dicionários das possíveis entradas.\n",
        "dict_numeral = {'um':1,'dois':2,'tres':3,'quatro':4,'cinco':5,'seis':6,'sete':7,'oito':8,'nove':9,'dez':10,\\\n",
        "                'onze':11,'doze':12,'treze':13,'quatorze':14,'catorze':14,'quinze':15,'dezesseis':16,'dezessete':17,\\\n",
        "                'dezoito':18,'dezenove':19,'vinte':20,'trinta':30,'quarenta':40,'cinquenta':50,'sessenta':60,\\\n",
        "                'setenta':70,'oitenta':80,'noventa':90,'cem':100,'cento':100,'duzentos':200,'trezentos':300,\\\n",
        "                'quatrocentos':400,'quinhentos':500,'seiscentos':600,'setecentos':700,'oitocentos':800,'novecentos':900}\n",
        "dict_medida = {'mil':1000,'k':1000,'milhao':1000000,'milhoes':1000000,'m':1000000,'bilhao':1000000000,'bilhoes':1000000000,'g':1000000000}\n",
        "\n",
        "\n",
        "#separa numero e letra\n",
        "def separa_numero_de_texto(texto:str):\n",
        "  #acrescenta um zero ao fim para no 'text[i+1]' não haver estouro\n",
        "  texto = f'{texto}0'\n",
        "  numero = ''\n",
        "  for i in range(len(texto)):\n",
        "    if texto[i].isdecimal() or texto[i] == '.':\n",
        "      numero += texto[i]\n",
        "    #estouro neste caso em que podem entrar com palavra mil ou algo parecido\n",
        "    elif texto[i].isalpha and (texto[i-1].isdigit() or texto[i-1] == '.') and (not(texto[i+1].isdigit() or texto[i+1] == '.')):\n",
        "      numero += f' {texto[i]}'\n",
        "    elif texto[i].isalpha and (texto[i+1].isdigit() or texto[i+1] == '.') and (not(texto[i-1].isdigit() or texto[i-1] == '.')):\n",
        "      numero += f'{texto[i]} '\n",
        "    #quando for k ou b ou g ou m\n",
        "    elif texto[i].isalpha and (texto[i+1].isdigit() or texto[i+1] == '.') and (texto[i-1].isdigit() or texto[i-1] == '.'):\n",
        "      numero += f' {texto[i]} '\n",
        "    else:\n",
        "      numero += f'{texto[i]}'\n",
        "  #retira o zero\n",
        "  return numero[:-1]\n",
        "\n",
        "def trata_entrada(numero:str):\n",
        "  numero = numero.replace(',','.').lower().strip()\n",
        "  numero = separa_numero_de_texto(numero)\n",
        "  numero = numero.replace('reais','')\n",
        "  numero = numero.replace('real','')\n",
        "  numero = numero.replace('r$','')  \n",
        "  numero = numero.replace('á','a')\n",
        "  numero = numero.replace('é','e')\n",
        "  numero = numero.replace('í','i')\n",
        "  numero = numero.replace('ó','o')\n",
        "  numero = numero.replace('õ','o')\n",
        "  numero = numero.replace('ã','a')\n",
        "  numero_2 = numero.replace('ê','e').split()\n",
        "    \n",
        "  for i in numero_2:\n",
        "    #verifica se a string pode ser um float ou int\n",
        "    if i.replace('.','').isdigit():\n",
        "      #arranjo para transformar o numero que entrou como string\n",
        "      # em float sem dar erro (nos casos que não fosse possível)\n",
        "      numero_2[numero_2.index(i)]=float(i)\n",
        "\n",
        "  return numero_2\n",
        "  \n",
        "# converte numeros anteriores a unidade de medida\n",
        "def soma_digito(numero:list):\n",
        "  digito = 0\n",
        "  \n",
        "  for i in numero:\n",
        "    #verifica se o termo é inteiro ou float\n",
        "    if type(i) == float or type(i)== int:\n",
        "      #caso sim, soma o termo ao digito\n",
        "      digito += i\n",
        "      continue\n",
        "    #verifica se o termo não for numero mas representar um numero \n",
        "    #(estiver no dicionario de numeral)\n",
        "    if i in dict_numeral:\n",
        "      #caso sim, adiciona o valor a digito\n",
        "      digito += dict_numeral[i]\n",
        "  #se o digito até aqui for 0 então deve ser o valor \"mil\" e por tanto, faremos digito = 1.    \n",
        "  if digito == 0:\n",
        "    digito = 1\n",
        "    \n",
        "  return digito\n",
        "\n",
        "# cria tuplas até a posicao das unidades de medidas \n",
        "\n",
        "def listas_por_unidade_medida(numero:list):\n",
        "  lista_unidade_medida = []\n",
        "  lista_numeros = []\n",
        "  # passa por todos os itens da lista\n",
        "  for i in numero:\n",
        "    #acrescenta cada item a lista_numeros\n",
        "    lista_numeros.append(i)\n",
        "    # se o item estiver no dicionario de medidas\n",
        "    if i in dict_medida:\n",
        "      \n",
        "      #cria uma copia da lista_numero para ser usada apenas aqui\n",
        "      lista_numeros = lista_numeros.copy()\n",
        "      #faz um append dessa copia em lista_unidade_medida criando uma lista para cada unidade\n",
        "      lista_unidade_medida.append(tuple(lista_numeros))\n",
        "      #zera copia para iniciar o processo novamente\n",
        "      lista_numeros.clear()\n",
        "  else:\n",
        "    #se apos percorrer toda lista numero esta for maior que 0\n",
        "    if len(lista_numeros) > 0:\n",
        "      # o if anterior separava a lista inicial em listas menores\n",
        "      # seguidas de uma unidade de medida (ex. mil, mihao)\n",
        "      # mas todos os numeros de 1 a 999 ficariam de fora,\n",
        "      # então este else introduz eles como ultimo elemento da lista\n",
        "      lista_unidade_medida.append(tuple(lista_numeros))\n",
        "\n",
        "  return lista_unidade_medida\n",
        "\n"
      ]
    },
    {
      "cell_type": "markdown",
      "source": [
        "Programa Principal"
      ],
      "metadata": {
        "id": "qFFAnOGwEtPZ"
      }
    },
    {
      "cell_type": "code",
      "source": [
        "def interpreta_numero(numero:str):\n",
        "  #chama função para tratar entrada e transformar em lista\n",
        "  numero_tratado = trata_entrada(numero)\n",
        "  soma_lista = 0\n",
        "  subtotal = 0\n",
        "  #chama função listas por unidade de medida que \n",
        "  #multiplica a numeral da função soma_digito pela unidade de medida\n",
        "  listas_numeros = listas_por_unidade_medida(numero_tratado)\n",
        "  # percorre toda a lista de tuplas \n",
        "  for i in listas_numeros:\n",
        "    #verifica se o termo referente a posição do numero encontra-se\n",
        "    #no dicionario de medidas\n",
        "    if i[-1] in dict_medida:\n",
        "      #caso sim, pega a função soma digito x o vaor da unidade de medida\n",
        "      soma_lista += soma_digito(i) * dict_medida[i[-1]]\n",
        "    else:\n",
        "      #caso não, entende que a unidade de medida é anterior a mil (1 a 999)\n",
        "      # e por tanto, multiplica por 1\n",
        "      soma_lista += soma_digito(i) * 1\n",
        "  return soma_lista"
      ],
      "metadata": {
        "id": "KhD8CE_oEKt0"
      },
      "execution_count": null,
      "outputs": []
    },
    {
      "cell_type": "markdown",
      "source": [
        "Programa para manipular os arquivos"
      ],
      "metadata": {
        "id": "t1fb9xJ2-u9p"
      }
    },
    {
      "cell_type": "code",
      "source": [
        "#abrindo arquivo como leitura 'r'\n",
        "arquivo_1 = open('/content/inputs_projeto.txt','r')\n",
        "#abrindo arquivo de saída como escrita 'w'\n",
        "arquivo_2 = open('/content/arquivo_saida_projeto.txt','w')\n",
        "#lista para ser utilizada para armazenar os itens do arquivo_1\n",
        "lista = []\n",
        "#lista para armazenar os numeros gerados pela função\n",
        "lista_nova = []\n",
        "\n",
        "#percorre o arquivo_1 gerando um array\n",
        "for linha in arquivo_1:\n",
        "  \n",
        "  lista.append(linha)\n",
        " \n",
        "arquivo_1.close()\n",
        "\n",
        "#percorre lista anterior e paça cada item na função criada e gera a nova lista\n",
        "for numero in lista:\n",
        "  #transforma o numero em string e inclui o \\n\n",
        "  lista_nova.append(f'{interpreta_numero(numero)}\\n')\n",
        "\n",
        "#salva o array novo no arquivo_2\n",
        "arquivo_2.writelines(lista_nova)\n",
        "arquivo_2.close()\n"
      ],
      "metadata": {
        "id": "stUEQ9QaL96T"
      },
      "execution_count": null,
      "outputs": []
    }
  ]
}